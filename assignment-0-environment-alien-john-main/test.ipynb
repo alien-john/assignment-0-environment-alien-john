{
 "cells": [
  {
   "cell_type": "code",
   "execution_count": 24,
   "metadata": {},
   "outputs": [],
   "source": [
    "import cv2\n",
    "import numpy as np\n",
    "from matplotlib import pyplot as plt"
   ]
  },
  {
   "cell_type": "code",
   "execution_count": 25,
   "metadata": {},
   "outputs": [],
   "source": [
    "# 加载图像并获取灰度图像\n",
    "img: np.ndarray = cv2.imread(\"imgs/lena.png\")\n",
    "img_gray: np.ndarray = cv2.cvtColor(img, cv2.COLOR_BGR2GRAY)"
   ]
  },
  {
   "cell_type": "code",
   "execution_count": 26,
   "metadata": {},
   "outputs": [],
   "source": [
    "def show_img(img: np.ndarray) -> None:\n",
    "    \"\"\"使用matplotlib在Notebook中绘制图像\"\"\"\n",
    "    if len(img.shape) == 2:\n",
    "        # 灰度图\n",
    "        plt.imshow(img, cmap='gray')\n",
    "    elif len(img.shape) == 3:\n",
    "        # 彩色图在绘制时需要将OpenCV的BGR格式转为RGB格式\n",
    "        plt.imshow(img[:, :, ::-1])"
   ]
  },
  {
   "cell_type": "code",
   "execution_count": null,
   "metadata": {},
   "outputs": [],
   "source": [
    "show_img(img)"
   ]
  },
  {
   "cell_type": "code",
   "execution_count": null,
   "metadata": {},
   "outputs": [],
   "source": [
    "show_img(img_gray)"
   ]
  }
 ],
 "metadata": {
  "kernelspec": {
   "display_name": "CUMCM",
   "language": "python",
   "name": "python3"
  },
  "language_info": {
   "codemirror_mode": {
    "name": "ipython",
    "version": 3
   },
   "file_extension": ".py",
   "mimetype": "text/x-python",
   "name": "python",
   "nbconvert_exporter": "python",
   "pygments_lexer": "ipython3",
   "version": "3.11.5"
  }
 },
 "nbformat": 4,
 "nbformat_minor": 2
}
